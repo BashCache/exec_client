{
 "cells": [
  {
   "cell_type": "markdown",
   "metadata": {},
   "source": [
    "# Exec client side demonstration using Python"
   ]
  },
  {
   "cell_type": "code",
   "execution_count": 4,
   "metadata": {},
   "outputs": [
    {
     "data": {
      "image/png": "[encoded data removed]",
      "text/plain": [
       "<qrcode.image.pil.PilImage at 0x7f4b5402ab70>"
      ]
     },
     "execution_count": 4,
     "metadata": {},
     "output_type": "execute_result"
    }
   ],
   "source": [
    "# will be used to generate new trackable URLs\n",
    "import qrcode\n",
    "img = qrcode.make('https://pypi.org/')\n",
    "img"
   ]
  },
  {
   "cell_type": "markdown",
   "metadata": {},
   "source": [
    "First touch with the server, \n",
    "It creates a new author\n",
    "It creates a session\n"
   ]
  },
  {
   "cell_type": "code",
   "execution_count": 2,
   "metadata": {},
   "outputs": [],
   "source": [
    "import requests, pickle\n",
    "\n",
    "def init_session():\n",
    "    headers = {\n",
    "    }\n",
    "\n",
    "    global_session = requests.session()\n",
    "    # touch the server\n",
    "    global_session.get('http://localhost:3000/', headers=headers)\n",
    "\n",
    "    with open('somefile', 'wb') as f:\n",
    "        pickle.dump(global_session.cookies, f)\n",
    "\n",
    "    global_session = requests.session()  # or an existing session\n",
    "\n",
    "    with open('somefile', 'rb') as f:\n",
    "        global_session.cookies.update(pickle.load(f))\n",
    "    \n",
    "    return global_session\n",
    "    \n",
    "\n",
    "global_session = init_session()\n",
    "# data0 = {\n",
    "#   'title': 'JavaScript function 2',\n",
    "#   'summary': 'Find a prime number',\n",
    "#   'genre': 'Running',\n",
    "#   \"expect\":\"json\"\n",
    "# }\n",
    "# sessions = {};\n",
    "# def input_(msg):\n",
    "#     return input(msg)\n",
    "    \n",
    "# sessions.update({input(\"Enter a new session name: \"):global_session.post('http://localhost:3000/exec/session/create', headers=headers, data=data0)})\n",
    "\n",
    "# data1 = {\n",
    "#   'title': 'JavaScript function 3',\n",
    "#   'summary': 'Regression function',\n",
    "#   'genre': 'Running',\n",
    "#   \"expect\":\"json\"\n",
    "# }\n",
    "# sessions.update({input(\"Enter a new session name: \"):global_session.post('http://localhost:3000/exec/session/create', headers=headers, data=data0)})\n"
   ]
  },
  {
   "cell_type": "code",
   "execution_count": 4,
   "metadata": {},
   "outputs": [
    {
     "name": "stdout",
     "output_type": "stream",
     "text": [
      "Enter your title of type: <class 'str'> :sess1\n",
      "Enter your summary of type: <class 'str'> :summary\n",
      "Enter your genre of type: <enum 'Genre'> :genra\n",
      "Oops!  This is not in ['Running', 'Passive', 'ExecCrushed', 'ExecutionCrushed'].  Try again...\n",
      "re-enter your genre of type: <enum 'Genre'> :Passive\n",
      "Enter your expect of type: <class 'str'> :json\n"
     ]
    },
    {
     "data": {
      "text/plain": [
       "{'title': 'sess1', 'summary': 'summary', 'genre': 'Passive', 'expect': 'json'}"
      ]
     },
     "execution_count": 4,
     "metadata": {},
     "output_type": "execute_result"
    }
   ],
   "source": [
    "def restricted_input(msg, options):\n",
    "    while True:\n",
    "        try:\n",
    "            v = str(input(msg))\n",
    "            if v not in options:\n",
    "                raise ValueError #this will send it to the print message and back to the input option\n",
    "            return v\n",
    "        except ValueError:\n",
    "            print(\"Invalid entry\")\n",
    "restricted_input(\"choose between y/n\", [\"y\",\"n\"])\n",
    "\n",
    "import enum\n",
    "class Genre(enum.Enum):\n",
    "    Running = 1\n",
    "    Passive = 2\n",
    "    ExecCrushed = 3\n",
    "    ExecutionCrushed =4\n",
    "def input_dictionary(dic):\n",
    "    res = {}\n",
    "    for k in dic:\n",
    "        val = input('Enter your '+k+' of type: '+str(dic[k]['type'])+' :')\n",
    "        if(dic[k]['type']== Genre):\n",
    "            check = None\n",
    "            while(check is None):\n",
    "                try:\n",
    "                    check = Genre[val]\n",
    "                except KeyError:\n",
    "                    print(\"Oops!  This is not in \"+str([e.name for e in Genre])+\".  Try again...\")\n",
    "                    val = input('re-enter your '+k+' of type: '+str(dic[k]['type'])+' :')\n",
    "                    pass\n",
    "        res[k] = val if val else dic[k]['default'] if ('default' in dic[k]) else \"\"\n",
    "    return res\n",
    "\n",
    "input_dictionary({\n",
    "  'title': {'type':str},\n",
    "  'summary': {'type':str},\n",
    "  'genre': {'type':Genre},\n",
    "  \"expect\": {'type':str, 'default':'json'}\n",
    "})\n",
    "\n",
    "# input_dictionary({\n",
    "#   'imprint': {'type':str},\n",
    "#   'due_back': {'type':str},\n",
    "#   'status': {'type':Genre},\n",
    "#   \"expect\": {'type':str, 'default':'json'}\n",
    "# })"
   ]
  },
  {
   "cell_type": "code",
   "execution_count": 8,
   "metadata": {},
   "outputs": [
    {
     "name": "stdout",
     "output_type": "stream",
     "text": [
      "Define a list of sessions\n",
      "enter a new session name (or backspace to finish)Session1\n",
      "Enter your title of type: <class 'str'> :Title1\n",
      "Enter your summary of type: <class 'str'> :Summery1\n",
      "Enter your genre of type: <enum 'Genre'> :Passive\n",
      "Enter your expect of type: <class 'str'> :json\n",
      "{'name': 'Session1', 'data': {'title': 'Title1', 'summary': 'Summery1', 'genre': 'Passive', 'expect': 'json'}}\n",
      "The request succeeded\n",
      "enter a new session name (or backspace to finish)Session2\n",
      "Enter your title of type: <class 'str'> :Title2\n",
      "Enter your summary of type: <class 'str'> :Summary2\n",
      "Enter your genre of type: <enum 'Genre'> :Passive\n",
      "Enter your expect of type: <class 'str'> :json\n",
      "{'name': 'Session2', 'data': {'title': 'Title2', 'summary': 'Summary2', 'genre': 'Passive', 'expect': 'json'}}\n",
      "The request succeeded\n",
      "enter a new session name (or backspace to finish)\n"
     ]
    }
   ],
   "source": [
    "from requests import Timeout\n",
    "sessions = {};\n",
    "\n",
    "print('Define a list of sessions')\n",
    "schema = {\n",
    "  'title': {'type':str},\n",
    "  'summary': {'type':str},\n",
    "  'genre': {'type':Genre},\n",
    "  \"expect\": {'type':str, 'default':'json'}\n",
    "}\n",
    "def input_sessions(msg, schema):\n",
    "    session_names=[]\n",
    "    while True:\n",
    "        val = input(msg)\n",
    "        if(val in session_names):\n",
    "            redefine = restricted_input(\"This session is already defined, do you want to re-define (y/n)\", [\"y\",\"n\"])\n",
    "            if(redefine==\"n\"):\n",
    "                continue\n",
    "            \n",
    "        if(not val):\n",
    "            break\n",
    "        session_names.append(val)\n",
    "        yield {'name':val, 'data':input_dictionary(schema)}\n",
    "for sess in input_sessions(\"enter a new session name (or backspace to finish)\", schema):\n",
    "    try:\n",
    "        print(sess)\n",
    "        sessions.update({sess['name'] : global_session.post('http://localhost:3000/exec/session/create', data=sess['data'], timeout=3)})\n",
    "    except Timeout:\n",
    "        print('The request timed out. Please try again:')\n",
    "    except requests.exceptions.RequestException as e:  # This is the correct syntax\n",
    "        print (e)\n",
    "    else:\n",
    "        print('The request succeeded')"
   ]
  },
  {
   "cell_type": "code",
   "execution_count": 43,
   "metadata": {},
   "outputs": [
    {
     "name": "stdout",
     "output_type": "stream",
     "text": [
      "Execution time: 3.0030784606933594\n",
      "{\"status\":\"Passive\",\"_id\":\"5e0c5ffc22376d0a06586147\",\"session\":\"5e0c5b1f22376d0a06586146\",\"imprint\":\"{&#x27;balbal&#x27;: &#x27;blablablabla&#x27;}\",\"due_back\":null,\"__v\":0}\n"
     ]
    }
   ],
   "source": [
    "import json\n",
    "import timeit\n",
    "\n",
    "def track(session, function):\n",
    "    content = json.loads(session.text)\n",
    "    sess_id = content[\"_id\"]\n",
    "    sess_author = content[\"author\"]\n",
    "    cookies = {\n",
    "      }\n",
    "\n",
    "    headers = {\n",
    "        'Connection': 'keep-alive',\n",
    "        'Cache-Control': 'max-age=0',\n",
    "        'Origin': 'http://localhost:3000',\n",
    "        'Upgrade-Insecure-Requests': '1',\n",
    "        'Content-Type': 'application/x-www-form-urlencoded',\n",
    "        'Sec-Fetch-User': '?1',\n",
    "        'Accept': 'text/html,application/xhtml+xml,application/xml;q=0.9,image/webp,image/apng,*/*;q=0.8,application/signed-exchange;v=b3',\n",
    "        'Sec-Fetch-Site': 'same-origin',\n",
    "        'Sec-Fetch-Mode': 'navigate',\n",
    "        'Referer': 'http://localhost:3000/exec/execution/create',\n",
    "        'Accept-Encoding': 'gzip, deflate, br',\n",
    "        'Accept-Language': 'fr-FR,fr;q=0.9,en-US;q=0.8,en;q=0.7',\n",
    "    }\n",
    "    start = time.time()\n",
    "    result = function()\n",
    "    end = time.time()\n",
    "    print(\"Execution time: \"+str(end - start))\n",
    "    data = {\n",
    "      'session': sess_id,\n",
    "      'imprint': str(result),\n",
    "      'due_back': '',\n",
    "      'status': 'Passive'\n",
    "    }\n",
    "\n",
    "    response3 = global_session.post('http://localhost:3000/exec/execution/create', headers=headers, cookies=cookies, data=data)\n",
    "    print(response3.text)\n",
    "    \n",
    "def function():\n",
    "    import time\n",
    "    time.sleep(3)\n",
    "    return {\"balbal\":\"blablablabla\"}\n",
    "\n",
    "track(sessions['Session2'], function)"
   ]
  },
  {
   "cell_type": "markdown",
   "metadata": {},
   "source": [
    "List sessions attached to the current user"
   ]
  },
  {
   "cell_type": "code",
   "execution_count": 5,
   "metadata": {},
   "outputs": [],
   "source": [
    "import requests\n",
    "def list_sessions(global_session):\n",
    "    cookies = {\n",
    "    }\n",
    "\n",
    "    headers = {\n",
    "        'Connection': 'keep-alive',\n",
    "        'Cache-Control': 'max-age=0',\n",
    "        'Upgrade-Insecure-Requests': '1',\n",
    "        'Sec-Fetch-User': '?1',\n",
    "        'Accept': 'text/html,application/xhtml+xml,application/xml;q=0.9,image/webp,image/apng,*/*;q=0.8,application/signed-exchange;v=b3',\n",
    "        'Sec-Fetch-Site': 'same-origin',\n",
    "        'Sec-Fetch-Mode': 'navigate',\n",
    "        'Referer': 'http://localhost:3000/exec',\n",
    "        'Accept-Encoding': 'gzip, deflate, br',\n",
    "        'Accept-Language': 'fr-FR,fr;q=0.9,en-US;q=0.8,en;q=0.7',\n",
    "        'If-None-Match': 'W/\"4ca-rqBSLx58JlPJOwoweND7UQb7C+w\"',\n",
    "    }\n",
    "\n",
    "    response_ = global_session.get('http://localhost:3000/exec/sessions', headers=headers, cookies=cookies)\n",
    "    return response_.text"
   ]
  },
  {
   "cell_type": "markdown",
   "metadata": {},
   "source": [
    "Get session details"
   ]
  },
  {
   "cell_type": "code",
   "execution_count": 14,
   "metadata": {},
   "outputs": [
    {
     "data": {
      "text/plain": [
       "'{\"title\":\"Title\",\"session\":{\"genre\":[],\"_id\":\"5e08f4998ed36d276c133671\",\"title\":\"title\",\"author\":{\"_id\":\"5e08f475e27148270405d5f6\",\"uid\":\"7cd284a0-2a6b-11ea-a7a4-fde13b9f4fb6\",\"date_of_birth\":\"2019-12-29T18:46:13.226Z\",\"date_of_death\":\"2020-01-12T18:46:13.226Z\",\"__v\":0},\"summary\":\"summary\",\"__v\":0},\"session_executions\":[{\"status\":\"Passive\",\"_id\":\"5e08f4ad8ed36d276c133672\",\"session\":\"5e08f4998ed36d276c133671\",\"imprint\":\"nothing\",\"due_back\":null,\"__v\":0}]}'"
      ]
     },
     "execution_count": 14,
     "metadata": {},
     "output_type": "execute_result"
    }
   ],
   "source": [
    "import requests\n",
    "\n",
    "def session_details(session, global_session):\n",
    "    cookies = {\n",
    "\n",
    "    }\n",
    "\n",
    "    headers = {\n",
    "        'Connection': 'keep-alive',\n",
    "        'Cache-Control': 'max-age=0',\n",
    "        'Upgrade-Insecure-Requests': '1',\n",
    "        'Sec-Fetch-User': '?1',\n",
    "        'Accept': 'text/html,application/xhtml+xml,application/xml;q=0.9,image/webp,image/apng,*/*;q=0.8,application/signed-exchange;v=b3',\n",
    "        'Sec-Fetch-Site': 'none',\n",
    "        'Sec-Fetch-Mode': 'navigate',\n",
    "        'Accept-Encoding': 'gzip, deflate, br',\n",
    "        'Accept-Language': 'fr-FR,fr;q=0.9,en-US;q=0.8,en;q=0.7',\n",
    "        'If-None-Match': 'W/\"67e-2DVwiNoPIygAiD0xqn/uYtuf7i8\"',\n",
    "    }\n",
    "\n",
    "    response2 = global_session.get('http://localhost:3000/exec/session/'+'5e08f4998ed36d276c133671', headers=headers, cookies=cookies)\n",
    "    return response2.text"
   ]
  },
  {
   "cell_type": "markdown",
   "metadata": {},
   "source": [
    "Create an execution for some session"
   ]
  },
  {
   "cell_type": "code",
   "execution_count": 12,
   "metadata": {},
   "outputs": [
    {
     "data": {
      "text/plain": [
       "'{\"status\":\"Passive\",\"_id\":\"5e08ee8c634f861f2e6faecb\",\"session\":\"5e08e4c53ae93710dff3262e\",\"imprint\":\"nothing\",\"due_back\":null,\"__v\":0}'"
      ]
     },
     "execution_count": 12,
     "metadata": {},
     "output_type": "execute_result"
    }
   ],
   "source": [
    "import requests\n",
    "\n",
    "cookies = {\n",
    "    }\n",
    "\n",
    "headers = {\n",
    "    'Connection': 'keep-alive',\n",
    "    'Cache-Control': 'max-age=0',\n",
    "    'Origin': 'http://localhost:3000',\n",
    "    'Upgrade-Insecure-Requests': '1',\n",
    "    'Content-Type': 'application/x-www-form-urlencoded',\n",
    "    'Sec-Fetch-User': '?1',\n",
    "    'Accept': 'text/html,application/xhtml+xml,application/xml;q=0.9,image/webp,image/apng,*/*;q=0.8,application/signed-exchange;v=b3',\n",
    "    'Sec-Fetch-Site': 'same-origin',\n",
    "    'Sec-Fetch-Mode': 'navigate',\n",
    "    'Referer': 'http://localhost:3000/exec/execution/create',\n",
    "    'Accept-Encoding': 'gzip, deflate, br',\n",
    "    'Accept-Language': 'fr-FR,fr;q=0.9,en-US;q=0.8,en;q=0.7',\n",
    "}\n",
    "\n",
    "data = {\n",
    "  'session': '5e08e4c53ae93710dff3262e',\n",
    "  'imprint': 'nothing',\n",
    "  'due_back': '',\n",
    "  'status': 'Passive'\n",
    "}\n",
    "\n",
    "response3 = global_session.post('http://localhost:3000/exec/execution/create', headers=headers, cookies=cookies, data=data)\n",
    "response3.text"
   ]
  },
  {
   "cell_type": "code",
   "execution_count": 45,
   "metadata": {},
   "outputs": [
    {
     "data": {
      "text/plain": [
       "'{\"title\":\"Session execution List\",\"execution_list\":[{\"status\":\"Passive\",\"_id\":\"5e0c5ffc22376d0a06586147\",\"session\":{\"genre\":[\"5e0c5aeb78ccbbde5f5b84a4\"],\"_id\":\"5e0c5b1f22376d0a06586146\",\"title\":\"Title2\",\"author\":\"5e0c596122376d0a06586144\",\"summary\":\"Summary2\",\"__v\":0},\"imprint\":\"{&#x27;balbal&#x27;: &#x27;blablablabla&#x27;}\",\"due_back\":null,\"__v\":0}]}'"
      ]
     },
     "execution_count": 45,
     "metadata": {},
     "output_type": "execute_result"
    }
   ],
   "source": [
    "import requests\n",
    "\n",
    "cookies = {\n",
    "    }\n",
    "\n",
    "headers = {\n",
    "    'Connection': 'keep-alive',\n",
    "    'Cache-Control': 'max-age=0',\n",
    "    'Upgrade-Insecure-Requests': '1',\n",
    "    'Sec-Fetch-User': '?1',\n",
    "    'Accept': 'text/html,application/xhtml+xml,application/xml;q=0.9,image/webp,image/apng,*/*;q=0.8,application/signed-exchange;v=b3',\n",
    "    'Sec-Fetch-Site': 'cross-site',\n",
    "    'Sec-Fetch-Mode': 'navigate',\n",
    "    'Accept-Encoding': 'gzip, deflate, br',\n",
    "    'Accept-Language': 'fr-FR,fr;q=0.9,en-US;q=0.8,en;q=0.7',\n",
    "    'If-None-Match': 'W/\"11f-GrbDuZ6yV7aa+BCBBelvoyrXRJU\"',\n",
    "}\n",
    "\n",
    "response = global_session.get('http://localhost:3000/exec/executions', headers=headers, cookies=cookies)\n",
    "response.text"
   ]
  }
 ],
 "metadata": {
  "kernelspec": {
   "display_name": "Python 3",
   "language": "python",
   "name": "python3"
  },
  "language_info": {
   "codemirror_mode": {
    "name": "ipython",
    "version": 3
   },
   "file_extension": ".py",
   "mimetype": "text/x-python",
   "name": "python",
   "nbconvert_exporter": "python",
   "pygments_lexer": "ipython3",
   "version": "3.6.5"
  }
 },
 "nbformat": 4,
 "nbformat_minor": 2
}
